{
 "cells": [
  {
   "cell_type": "code",
   "execution_count": 1,
   "metadata": {},
   "outputs": [
    {
     "name": "stdout",
     "output_type": "stream",
     "text": [
      "Using matplotlib backend: <object object at 0x000002C466CB23F0>\n",
      "%pylab is deprecated, use %matplotlib inline and import the required libraries.\n",
      "Populating the interactive namespace from numpy and matplotlib\n"
     ]
    },
    {
     "data": {
      "text/plain": [
       "[<matplotlib.lines.Line2D at 0x2c46853b7c0>]"
      ]
     },
     "execution_count": 1,
     "metadata": {},
     "output_type": "execute_result"
    },
    {
     "data": {
      "image/png": "[encoded data removed]",
      "text/plain": [
       "<Figure size 432x288 with 1 Axes>"
      ]
     },
     "metadata": {
      "needs_background": "light"
     },
     "output_type": "display_data"
    }
   ],
   "source": [
    "#그래픽 라이브러리 활성화 (매직 명령어)\n",
    "%pylab\n",
    "%matplotlib inline\n",
    "\n",
    "#판다스 사용\n",
    "import pandas\n",
    "\n",
    "#차트 그리기\n",
    "plot(arange(10))\n",
    "\n",
    "#shift + enter\n"
   ]
  },
  {
   "cell_type": "code",
   "execution_count": 2,
   "metadata": {},
   "outputs": [
    {
     "name": "stdout",
     "output_type": "stream",
     "text": [
      "22-06-20    100\n",
      "22-06-21    200\n",
      "22-06-22    300\n",
      "22-06-23    400\n",
      "22-06-24    500\n",
      "dtype: int64\n"
     ]
    }
   ],
   "source": [
    "from pandas import Series, DataFrame\n",
    "import pandas as pd\n",
    "\n",
    "#멀티 캠퍼스 주가\n",
    "multi = Series([100, 200, 300, 400, 500], index = [\"22-06-20\", \"22-06-21\", \"22-06-22\", \"22-06-23\", \"22-06-24\"])\n",
    "#type(multi)\n",
    "\n",
    "print(multi)"
   ]
  },
  {
   "cell_type": "code",
   "execution_count": 3,
   "metadata": {},
   "outputs": [
    {
     "data": {
      "text/plain": [
       "200"
      ]
     },
     "execution_count": 3,
     "metadata": {},
     "output_type": "execute_result"
    }
   ],
   "source": [
    "multi[\"22-06-21\"]"
   ]
  },
  {
   "cell_type": "code",
   "execution_count": 4,
   "metadata": {},
   "outputs": [
    {
     "data": {
      "text/plain": [
       "{'foreigner': [1, 2, 3, 4, 5, 6],\n",
       " 'sratio': [10, 20, 30, 40, 50, 60],\n",
       " 'org': [100, 200, 300, 400, 500, 600],\n",
       " 'sprice': [1, 2, 3, 4, 5, 6],\n",
       " 'private': [10, 20, 30, 40, 50, 60]}"
      ]
     },
     "execution_count": 4,
     "metadata": {},
     "output_type": "execute_result"
    }
   ],
   "source": [
    "# 데이터 프레임 사용\n",
    "data = {\"foreigner\":[1,2,3,4,5,6],\n",
    "        \"sratio\":[10,20,30,40,50,60],\n",
    "        \"org\":[100,200,300,400,500,600],\n",
    "        \"sprice\":[1,2,3,4,5,6],\n",
    "        \"private\":[10,20,30,40,50,60]}\n",
    "\n",
    "data"
   ]
  },
  {
   "cell_type": "code",
   "execution_count": 7,
   "metadata": {},
   "outputs": [
    {
     "name": "stdout",
     "output_type": "stream",
     "text": [
      "   foreigner  sratio  org  sprice  private\n",
      "0          1      10  100       1       10\n",
      "1          2      20  200       2       20\n",
      "2          3      30  300       3       30\n",
      "3          4      40  400       4       40\n",
      "4          5      50  500       5       50\n",
      "5          6      60  600       6       60\n"
     ]
    }
   ],
   "source": [
    "#데이터 프레임 생성\n",
    "frame = DataFrame(data)\n",
    "#type(frame)\n",
    "print(frame)"
   ]
  },
  {
   "cell_type": "code",
   "execution_count": 8,
   "metadata": {},
   "outputs": [
    {
     "name": "stdout",
     "output_type": "stream",
     "text": [
      "   private  foreigner  org  sprice  sratio\n",
      "0       10          1  100       1      10\n",
      "1       20          2  200       2      20\n",
      "2       30          3  300       3      30\n",
      "3       40          4  400       4      40\n",
      "4       50          5  500       5      50\n",
      "5       60          6  600       6      60\n"
     ]
    }
   ],
   "source": [
    "#데이터 프레임 생성\n",
    "frame2 = DataFrame(data, columns=[\"private\", \"foreigner\", \"org\", \"sprice\", \"sratio\"])\n",
    "#type(frame)\n",
    "print(frame2)"
   ]
  },
  {
   "cell_type": "code",
   "execution_count": 9,
   "metadata": {},
   "outputs": [
    {
     "name": "stdout",
     "output_type": "stream",
     "text": [
      "          private  foreigner  org  sprice  sratio\n",
      "22-06-20       10          1  100       1      10\n",
      "22-06-21       20          2  200       2      20\n",
      "22-06-22       30          3  300       3      30\n",
      "22-06-23       40          4  400       4      40\n",
      "22-06-24       50          5  500       5      50\n",
      "22-06-25       60          6  600       6      60\n"
     ]
    }
   ],
   "source": [
    "#데이터 프레임 생성\n",
    "frame3 = DataFrame(data, columns=[\"private\", \"foreigner\", \"org\", \"sprice\", \"sratio\"], index=[\"22-06-20\", \"22-06-21\", \"22-06-22\", \"22-06-23\", \"22-06-24\", \"22-06-25\"])\n",
    "print(frame3)"
   ]
  },
  {
   "cell_type": "code",
   "execution_count": 11,
   "metadata": {},
   "outputs": [
    {
     "data": {
      "text/plain": [
       "private       20\n",
       "foreigner      2\n",
       "org          200\n",
       "sprice         2\n",
       "sratio        20\n",
       "Name: 22-06-21, dtype: int64"
      ]
     },
     "execution_count": 11,
     "metadata": {},
     "output_type": "execute_result"
    }
   ],
   "source": [
    "#특정 컬럼을 슬라이싱\n",
    "#특정 행을 지정할 경우 location 속성\n",
    "frame3.loc[\"22-06-21\"]"
   ]
  },
  {
   "cell_type": "code",
   "execution_count": 12,
   "metadata": {},
   "outputs": [
    {
     "data": {
      "text/html": [
       "<div>\n",
       "<style scoped>\n",
       "    .dataframe tbody tr th:only-of-type {\n",
       "        vertical-align: middle;\n",
       "    }\n",
       "\n",
       "    .dataframe tbody tr th {\n",
       "        vertical-align: top;\n",
       "    }\n",
       "\n",
       "    .dataframe thead th {\n",
       "        text-align: right;\n",
       "    }\n",
       "</style>\n",
       "<table border=\"1\" class=\"dataframe\">\n",
       "  <thead>\n",
       "    <tr style=\"text-align: right;\">\n",
       "      <th></th>\n",
       "      <th>22-06-20</th>\n",
       "      <th>22-06-21</th>\n",
       "      <th>22-06-22</th>\n",
       "      <th>22-06-23</th>\n",
       "      <th>22-06-24</th>\n",
       "      <th>22-06-25</th>\n",
       "    </tr>\n",
       "  </thead>\n",
       "  <tbody>\n",
       "    <tr>\n",
       "      <th>private</th>\n",
       "      <td>10</td>\n",
       "      <td>20</td>\n",
       "      <td>30</td>\n",
       "      <td>40</td>\n",
       "      <td>50</td>\n",
       "      <td>60</td>\n",
       "    </tr>\n",
       "    <tr>\n",
       "      <th>foreigner</th>\n",
       "      <td>1</td>\n",
       "      <td>2</td>\n",
       "      <td>3</td>\n",
       "      <td>4</td>\n",
       "      <td>5</td>\n",
       "      <td>6</td>\n",
       "    </tr>\n",
       "    <tr>\n",
       "      <th>org</th>\n",
       "      <td>100</td>\n",
       "      <td>200</td>\n",
       "      <td>300</td>\n",
       "      <td>400</td>\n",
       "      <td>500</td>\n",
       "      <td>600</td>\n",
       "    </tr>\n",
       "    <tr>\n",
       "      <th>sprice</th>\n",
       "      <td>1</td>\n",
       "      <td>2</td>\n",
       "      <td>3</td>\n",
       "      <td>4</td>\n",
       "      <td>5</td>\n",
       "      <td>6</td>\n",
       "    </tr>\n",
       "    <tr>\n",
       "      <th>sratio</th>\n",
       "      <td>10</td>\n",
       "      <td>20</td>\n",
       "      <td>30</td>\n",
       "      <td>40</td>\n",
       "      <td>50</td>\n",
       "      <td>60</td>\n",
       "    </tr>\n",
       "  </tbody>\n",
       "</table>\n",
       "</div>"
      ],
      "text/plain": [
       "           22-06-20  22-06-21  22-06-22  22-06-23  22-06-24  22-06-25\n",
       "private          10        20        30        40        50        60\n",
       "foreigner         1         2         3         4         5         6\n",
       "org             100       200       300       400       500       600\n",
       "sprice            1         2         3         4         5         6\n",
       "sratio           10        20        30        40        50        60"
      ]
     },
     "execution_count": 12,
     "metadata": {},
     "output_type": "execute_result"
    }
   ],
   "source": [
    "frame3.T"
   ]
  },
  {
   "cell_type": "code",
   "execution_count": 14,
   "metadata": {},
   "outputs": [
    {
     "name": "stdout",
     "output_type": "stream",
     "text": [
      "id, name, price, description\n",
      "1, iphone, 890000, iphone 6s 7 8 x \n",
      "2, android, 990000, samsung phone\n",
      "3, winphone, 450000, microsoft winphone \n"
     ]
    }
   ],
   "source": [
    "#내용을 보기\n",
    "!type c:\\work\\ex1.csv"
   ]
  },
  {
   "cell_type": "code",
   "execution_count": 17,
   "metadata": {},
   "outputs": [
    {
     "name": "stdout",
     "output_type": "stream",
     "text": [
      "<class 'pandas.core.frame.DataFrame'>\n",
      "   id       name   price           description\n",
      "0   1     iphone  890000      iphone 6s 7 8 x \n",
      "1   2    android  990000         samsung phone\n",
      "2   3   winphone  450000   microsoft winphone \n"
     ]
    }
   ],
   "source": [
    "df = pd.read_csv(\"c:\\\\work\\\\ex1.csv\")\n",
    "print(type(df))\n",
    "print(df)"
   ]
  },
  {
   "cell_type": "code",
   "execution_count": 18,
   "metadata": {},
   "outputs": [
    {
     "name": "stdout",
     "output_type": "stream",
     "text": [
      "1, iphone, 890000, iphone 6s 7 8 x \n",
      "2, android, 990000, samsung phone\n",
      "3, winphone, 450000, microsoft winphone \n"
     ]
    }
   ],
   "source": [
    "!type c:\\work\\ex2.csv"
   ]
  },
  {
   "cell_type": "code",
   "execution_count": 19,
   "metadata": {},
   "outputs": [
    {
     "name": "stdout",
     "output_type": "stream",
     "text": [
      "   id       name   price                  desc\n",
      "0   1     iphone  890000      iphone 6s 7 8 x \n",
      "1   2    android  990000         samsung phone\n",
      "2   3   winphone  450000   microsoft winphone \n"
     ]
    }
   ],
   "source": [
    "df2 = pd.read_csv(\"c:\\\\work\\\\ex2.csv\", names=[\"id\", \"name\", \"price\", \"desc\"])\n",
    "print(df2)"
   ]
  },
  {
   "cell_type": "code",
   "execution_count": 20,
   "metadata": {},
   "outputs": [
    {
     "name": "stdout",
     "output_type": "stream",
     "text": [
      "data1 data2 data3 \n",
      "1.2     2.3     1.3\n",
      "0.1     1.5     2.5\n",
      "3.1     3.2     3.3\n"
     ]
    }
   ],
   "source": [
    "#구분자가 공백인 경우\n",
    "!type c:\\work\\ex3.txt"
   ]
  },
  {
   "cell_type": "code",
   "execution_count": 22,
   "metadata": {},
   "outputs": [
    {
     "data": {
      "text/html": [
       "<div>\n",
       "<style scoped>\n",
       "    .dataframe tbody tr th:only-of-type {\n",
       "        vertical-align: middle;\n",
       "    }\n",
       "\n",
       "    .dataframe tbody tr th {\n",
       "        vertical-align: top;\n",
       "    }\n",
       "\n",
       "    .dataframe thead th {\n",
       "        text-align: right;\n",
       "    }\n",
       "</style>\n",
       "<table border=\"1\" class=\"dataframe\">\n",
       "  <thead>\n",
       "    <tr style=\"text-align: right;\">\n",
       "      <th></th>\n",
       "      <th>data1</th>\n",
       "      <th>data2</th>\n",
       "      <th>data3</th>\n",
       "    </tr>\n",
       "  </thead>\n",
       "  <tbody>\n",
       "    <tr>\n",
       "      <th>0</th>\n",
       "      <td>1.2</td>\n",
       "      <td>2.3</td>\n",
       "      <td>1.3</td>\n",
       "    </tr>\n",
       "    <tr>\n",
       "      <th>1</th>\n",
       "      <td>0.1</td>\n",
       "      <td>1.5</td>\n",
       "      <td>2.5</td>\n",
       "    </tr>\n",
       "    <tr>\n",
       "      <th>2</th>\n",
       "      <td>3.1</td>\n",
       "      <td>3.2</td>\n",
       "      <td>3.3</td>\n",
       "    </tr>\n",
       "  </tbody>\n",
       "</table>\n",
       "</div>"
      ],
      "text/plain": [
       "   data1  data2  data3\n",
       "0    1.2    2.3    1.3\n",
       "1    0.1    1.5    2.5\n",
       "2    3.1    3.2    3.3"
      ]
     },
     "execution_count": 22,
     "metadata": {},
     "output_type": "execute_result"
    }
   ],
   "source": [
    "df3 = pd.read_table(\"C:\\\\work\\\\ex3.txt\", sep=\"\\s+\")\n",
    "df3"
   ]
  },
  {
   "cell_type": "code",
   "execution_count": 23,
   "metadata": {},
   "outputs": [
    {
     "data": {
      "text/html": [
       "<div>\n",
       "<style scoped>\n",
       "    .dataframe tbody tr th:only-of-type {\n",
       "        vertical-align: middle;\n",
       "    }\n",
       "\n",
       "    .dataframe tbody tr th {\n",
       "        vertical-align: top;\n",
       "    }\n",
       "\n",
       "    .dataframe thead th {\n",
       "        text-align: right;\n",
       "    }\n",
       "</style>\n",
       "<table border=\"1\" class=\"dataframe\">\n",
       "  <thead>\n",
       "    <tr style=\"text-align: right;\">\n",
       "      <th></th>\n",
       "      <th>사번</th>\n",
       "      <th>성별</th>\n",
       "      <th>나이</th>\n",
       "      <th>판매금액</th>\n",
       "      <th>수입</th>\n",
       "    </tr>\n",
       "  </thead>\n",
       "  <tbody>\n",
       "    <tr>\n",
       "      <th>0</th>\n",
       "      <td>E001</td>\n",
       "      <td>M</td>\n",
       "      <td>34</td>\n",
       "      <td>123</td>\n",
       "      <td>350</td>\n",
       "    </tr>\n",
       "    <tr>\n",
       "      <th>1</th>\n",
       "      <td>E002</td>\n",
       "      <td>F</td>\n",
       "      <td>40</td>\n",
       "      <td>114</td>\n",
       "      <td>450</td>\n",
       "    </tr>\n",
       "    <tr>\n",
       "      <th>2</th>\n",
       "      <td>E003</td>\n",
       "      <td>F</td>\n",
       "      <td>37</td>\n",
       "      <td>135</td>\n",
       "      <td>169</td>\n",
       "    </tr>\n",
       "    <tr>\n",
       "      <th>3</th>\n",
       "      <td>E004</td>\n",
       "      <td>M</td>\n",
       "      <td>30</td>\n",
       "      <td>139</td>\n",
       "      <td>189</td>\n",
       "    </tr>\n",
       "    <tr>\n",
       "      <th>4</th>\n",
       "      <td>E005</td>\n",
       "      <td>F</td>\n",
       "      <td>44</td>\n",
       "      <td>117</td>\n",
       "      <td>183</td>\n",
       "    </tr>\n",
       "    <tr>\n",
       "      <th>5</th>\n",
       "      <td>E006</td>\n",
       "      <td>M</td>\n",
       "      <td>36</td>\n",
       "      <td>121</td>\n",
       "      <td>90</td>\n",
       "    </tr>\n",
       "    <tr>\n",
       "      <th>6</th>\n",
       "      <td>E007</td>\n",
       "      <td>M</td>\n",
       "      <td>32</td>\n",
       "      <td>133</td>\n",
       "      <td>166</td>\n",
       "    </tr>\n",
       "    <tr>\n",
       "      <th>7</th>\n",
       "      <td>E008</td>\n",
       "      <td>F</td>\n",
       "      <td>26</td>\n",
       "      <td>140</td>\n",
       "      <td>120</td>\n",
       "    </tr>\n",
       "    <tr>\n",
       "      <th>8</th>\n",
       "      <td>E009</td>\n",
       "      <td>M</td>\n",
       "      <td>32</td>\n",
       "      <td>133</td>\n",
       "      <td>75</td>\n",
       "    </tr>\n",
       "    <tr>\n",
       "      <th>9</th>\n",
       "      <td>E010</td>\n",
       "      <td>M</td>\n",
       "      <td>36</td>\n",
       "      <td>133</td>\n",
       "      <td>40</td>\n",
       "    </tr>\n",
       "  </tbody>\n",
       "</table>\n",
       "</div>"
      ],
      "text/plain": [
       "     사번 성별  나이  판매금액   수입\n",
       "0  E001  M  34   123  350\n",
       "1  E002  F  40   114  450\n",
       "2  E003  F  37   135  169\n",
       "3  E004  M  30   139  189\n",
       "4  E005  F  44   117  183\n",
       "5  E006  M  36   121   90\n",
       "6  E007  M  32   133  166\n",
       "7  E008  F  26   140  120\n",
       "8  E009  M  32   133   75\n",
       "9  E010  M  36   133   40"
      ]
     },
     "execution_count": 23,
     "metadata": {},
     "output_type": "execute_result"
    }
   ],
   "source": [
    "#엑셀 파일을 데이터 프레임으로 로딩\n",
    "dfExcel = pd.read_excel(\"C:\\\\work\\\\demo.xlsx\", \"Sheet1\")\n",
    "dfExcel"
   ]
  },
  {
   "cell_type": "code",
   "execution_count": 24,
   "metadata": {},
   "outputs": [
    {
     "data": {
      "text/html": [
       "<div>\n",
       "<style scoped>\n",
       "    .dataframe tbody tr th:only-of-type {\n",
       "        vertical-align: middle;\n",
       "    }\n",
       "\n",
       "    .dataframe tbody tr th {\n",
       "        vertical-align: top;\n",
       "    }\n",
       "\n",
       "    .dataframe thead th {\n",
       "        text-align: right;\n",
       "    }\n",
       "</style>\n",
       "<table border=\"1\" class=\"dataframe\">\n",
       "  <thead>\n",
       "    <tr style=\"text-align: right;\">\n",
       "      <th></th>\n",
       "      <th>사번</th>\n",
       "      <th>성별</th>\n",
       "      <th>나이</th>\n",
       "      <th>판매금액</th>\n",
       "      <th>수입</th>\n",
       "    </tr>\n",
       "  </thead>\n",
       "  <tbody>\n",
       "    <tr>\n",
       "      <th>0</th>\n",
       "      <td>E001</td>\n",
       "      <td>M</td>\n",
       "      <td>34</td>\n",
       "      <td>123</td>\n",
       "      <td>350</td>\n",
       "    </tr>\n",
       "    <tr>\n",
       "      <th>1</th>\n",
       "      <td>E002</td>\n",
       "      <td>F</td>\n",
       "      <td>40</td>\n",
       "      <td>114</td>\n",
       "      <td>450</td>\n",
       "    </tr>\n",
       "    <tr>\n",
       "      <th>2</th>\n",
       "      <td>E003</td>\n",
       "      <td>F</td>\n",
       "      <td>37</td>\n",
       "      <td>135</td>\n",
       "      <td>169</td>\n",
       "    </tr>\n",
       "    <tr>\n",
       "      <th>3</th>\n",
       "      <td>E004</td>\n",
       "      <td>M</td>\n",
       "      <td>30</td>\n",
       "      <td>139</td>\n",
       "      <td>189</td>\n",
       "    </tr>\n",
       "    <tr>\n",
       "      <th>4</th>\n",
       "      <td>E005</td>\n",
       "      <td>F</td>\n",
       "      <td>44</td>\n",
       "      <td>117</td>\n",
       "      <td>183</td>\n",
       "    </tr>\n",
       "    <tr>\n",
       "      <th>5</th>\n",
       "      <td>E006</td>\n",
       "      <td>M</td>\n",
       "      <td>36</td>\n",
       "      <td>121</td>\n",
       "      <td>90</td>\n",
       "    </tr>\n",
       "    <tr>\n",
       "      <th>6</th>\n",
       "      <td>E007</td>\n",
       "      <td>M</td>\n",
       "      <td>32</td>\n",
       "      <td>133</td>\n",
       "      <td>166</td>\n",
       "    </tr>\n",
       "    <tr>\n",
       "      <th>7</th>\n",
       "      <td>E008</td>\n",
       "      <td>F</td>\n",
       "      <td>26</td>\n",
       "      <td>140</td>\n",
       "      <td>120</td>\n",
       "    </tr>\n",
       "    <tr>\n",
       "      <th>8</th>\n",
       "      <td>E009</td>\n",
       "      <td>M</td>\n",
       "      <td>32</td>\n",
       "      <td>133</td>\n",
       "      <td>75</td>\n",
       "    </tr>\n",
       "    <tr>\n",
       "      <th>9</th>\n",
       "      <td>E010</td>\n",
       "      <td>M</td>\n",
       "      <td>36</td>\n",
       "      <td>133</td>\n",
       "      <td>40</td>\n",
       "    </tr>\n",
       "  </tbody>\n",
       "</table>\n",
       "</div>"
      ],
      "text/plain": [
       "     사번 성별  나이  판매금액   수입\n",
       "0  E001  M  34   123  350\n",
       "1  E002  F  40   114  450\n",
       "2  E003  F  37   135  169\n",
       "3  E004  M  30   139  189\n",
       "4  E005  F  44   117  183\n",
       "5  E006  M  36   121   90\n",
       "6  E007  M  32   133  166\n",
       "7  E008  F  26   140  120\n",
       "8  E009  M  32   133   75\n",
       "9  E010  M  36   133   40"
      ]
     },
     "execution_count": 24,
     "metadata": {},
     "output_type": "execute_result"
    }
   ],
   "source": [
    "#엑셀 파일을 데이터 프레임으로 로딩\n",
    "dfExcel = pd.read_excel(\"C:\\\\work\\\\demo.xls\", \"Sheet1\")\n",
    "dfExcel"
   ]
  },
  {
   "cell_type": "code",
   "execution_count": 26,
   "metadata": {},
   "outputs": [
    {
     "name": "stdout",
     "output_type": "stream",
     "text": [
      "Using matplotlib backend: QtAgg\n",
      "%pylab is deprecated, use %matplotlib inline and import the required libraries.\n",
      "Populating the interactive namespace from numpy and matplotlib\n"
     ]
    },
    {
     "data": {
      "text/plain": [
       "(array([1., 1., 2., 3., 1., 1., 1.]),\n",
       " array([26.        , 28.57142857, 31.14285714, 33.71428571, 36.28571429,\n",
       "        38.85714286, 41.42857143, 44.        ]),\n",
       " <BarContainer object of 7 artists>)"
      ]
     },
     "execution_count": 26,
     "metadata": {},
     "output_type": "execute_result"
    },
    {
     "data": {
      "image/png": "[encoded data removed]",
      "text/plain": [
       "<Figure size 432x288 with 1 Axes>"
      ]
     },
     "metadata": {
      "needs_background": "light"
     },
     "output_type": "display_data"
    }
   ],
   "source": [
    "%pylab\n",
    "%matplotlib inline \n",
    "import matplotlib.pyplot as plt\n",
    "\n",
    "#그림판을 준비\n",
    "fig = plt.figure()\n",
    "\n",
    "#그림판에 차트를 1개 준비\n",
    "ax = fig.add_subplot(1,1,1,)\n",
    "\n",
    "#나이 컬럼을 7개 그룹으로 묶어서 표시\n",
    "ax.hist(dfExcel[\"나이\"], bins=7)"
   ]
  },
  {
   "cell_type": "code",
   "execution_count": 33,
   "metadata": {},
   "outputs": [
    {
     "data": {
      "text/html": [
       "<div>\n",
       "<style scoped>\n",
       "    .dataframe tbody tr th:only-of-type {\n",
       "        vertical-align: middle;\n",
       "    }\n",
       "\n",
       "    .dataframe tbody tr th {\n",
       "        vertical-align: top;\n",
       "    }\n",
       "\n",
       "    .dataframe thead th {\n",
       "        text-align: right;\n",
       "    }\n",
       "</style>\n",
       "<table border=\"1\" class=\"dataframe\">\n",
       "  <thead>\n",
       "    <tr style=\"text-align: right;\">\n",
       "      <th></th>\n",
       "      <th>key</th>\n",
       "      <th>data1</th>\n",
       "      <th>data2</th>\n",
       "    </tr>\n",
       "  </thead>\n",
       "  <tbody>\n",
       "    <tr>\n",
       "      <th>0</th>\n",
       "      <td>b</td>\n",
       "      <td>0</td>\n",
       "      <td>1</td>\n",
       "    </tr>\n",
       "    <tr>\n",
       "      <th>1</th>\n",
       "      <td>b</td>\n",
       "      <td>1</td>\n",
       "      <td>1</td>\n",
       "    </tr>\n",
       "    <tr>\n",
       "      <th>2</th>\n",
       "      <td>b</td>\n",
       "      <td>6</td>\n",
       "      <td>1</td>\n",
       "    </tr>\n",
       "    <tr>\n",
       "      <th>3</th>\n",
       "      <td>a</td>\n",
       "      <td>2</td>\n",
       "      <td>0</td>\n",
       "    </tr>\n",
       "    <tr>\n",
       "      <th>4</th>\n",
       "      <td>a</td>\n",
       "      <td>4</td>\n",
       "      <td>0</td>\n",
       "    </tr>\n",
       "    <tr>\n",
       "      <th>5</th>\n",
       "      <td>a</td>\n",
       "      <td>5</td>\n",
       "      <td>0</td>\n",
       "    </tr>\n",
       "  </tbody>\n",
       "</table>\n",
       "</div>"
      ],
      "text/plain": [
       "  key  data1  data2\n",
       "0   b      0      1\n",
       "1   b      1      1\n",
       "2   b      6      1\n",
       "3   a      2      0\n",
       "4   a      4      0\n",
       "5   a      5      0"
      ]
     },
     "execution_count": 33,
     "metadata": {},
     "output_type": "execute_result"
    }
   ],
   "source": [
    "#데이터를 가공 (수평으로 확장 : merge)\n",
    "\n",
    "df1 = DataFrame({\"key\":[\"b\",\"b\",\"a\",\"c\",\"a\",\"a\",\"b\"], \n",
    "                \"data1\":range(7)})\n",
    "df2 = DataFrame({\"key\":[\"a\",\"b\",\"d\"], \n",
    "                \"data2\":range(3)})                \n",
    "\n",
    "#print(df1)                \n",
    "#print(df2)\n",
    "\n",
    "#pd.merge(df1, df2, on=\"key\")\n",
    "pd.merge(df1, df2)"
   ]
  },
  {
   "cell_type": "code",
   "execution_count": 37,
   "metadata": {},
   "outputs": [
    {
     "data": {
      "text/html": [
       "<div>\n",
       "<style scoped>\n",
       "    .dataframe tbody tr th:only-of-type {\n",
       "        vertical-align: middle;\n",
       "    }\n",
       "\n",
       "    .dataframe tbody tr th {\n",
       "        vertical-align: top;\n",
       "    }\n",
       "\n",
       "    .dataframe thead th {\n",
       "        text-align: right;\n",
       "    }\n",
       "</style>\n",
       "<table border=\"1\" class=\"dataframe\">\n",
       "  <thead>\n",
       "    <tr style=\"text-align: right;\">\n",
       "      <th></th>\n",
       "      <th>lkey</th>\n",
       "      <th>data1</th>\n",
       "      <th>rkey</th>\n",
       "      <th>data2</th>\n",
       "    </tr>\n",
       "  </thead>\n",
       "  <tbody>\n",
       "    <tr>\n",
       "      <th>0</th>\n",
       "      <td>b</td>\n",
       "      <td>0</td>\n",
       "      <td>b</td>\n",
       "      <td>1</td>\n",
       "    </tr>\n",
       "    <tr>\n",
       "      <th>1</th>\n",
       "      <td>b</td>\n",
       "      <td>1</td>\n",
       "      <td>b</td>\n",
       "      <td>1</td>\n",
       "    </tr>\n",
       "    <tr>\n",
       "      <th>2</th>\n",
       "      <td>b</td>\n",
       "      <td>6</td>\n",
       "      <td>b</td>\n",
       "      <td>1</td>\n",
       "    </tr>\n",
       "    <tr>\n",
       "      <th>3</th>\n",
       "      <td>a</td>\n",
       "      <td>2</td>\n",
       "      <td>a</td>\n",
       "      <td>0</td>\n",
       "    </tr>\n",
       "    <tr>\n",
       "      <th>4</th>\n",
       "      <td>a</td>\n",
       "      <td>4</td>\n",
       "      <td>a</td>\n",
       "      <td>0</td>\n",
       "    </tr>\n",
       "    <tr>\n",
       "      <th>5</th>\n",
       "      <td>a</td>\n",
       "      <td>5</td>\n",
       "      <td>a</td>\n",
       "      <td>0</td>\n",
       "    </tr>\n",
       "  </tbody>\n",
       "</table>\n",
       "</div>"
      ],
      "text/plain": [
       "  lkey  data1 rkey  data2\n",
       "0    b      0    b      1\n",
       "1    b      1    b      1\n",
       "2    b      6    b      1\n",
       "3    a      2    a      0\n",
       "4    a      4    a      0\n",
       "5    a      5    a      0"
      ]
     },
     "execution_count": 37,
     "metadata": {},
     "output_type": "execute_result"
    }
   ],
   "source": [
    "#데이터를 가공 (수평으로 확장 : merge)\n",
    "\n",
    "df3 = DataFrame({\"lkey\":[\"b\",\"b\",\"a\",\"c\",\"a\",\"a\",\"b\"], \n",
    "                \"data1\":range(7)})\n",
    "df4 = DataFrame({\"rkey\":[\"a\",\"b\",\"d\"], \n",
    "                \"data2\":range(3)})                \n",
    "\n",
    "#키 컬럼의 이름이 다른 경우\n",
    "pd.merge(df3, df4, left_on=\"lkey\", right_on=\"rkey\")\n"
   ]
  },
  {
   "cell_type": "code",
   "execution_count": 35,
   "metadata": {},
   "outputs": [
    {
     "data": {
      "text/plain": [
       "0    1\n",
       "1    2\n",
       "2    3\n",
       "0    4\n",
       "1    5\n",
       "dtype: int64"
      ]
     },
     "execution_count": 35,
     "metadata": {},
     "output_type": "execute_result"
    }
   ],
   "source": [
    "# 동일한 구조의 데이터를 수직으로 결합 (유니온)\n",
    "s1 = Series([1,2,3])\n",
    "s2 = Series([4,5])\n",
    "pd.concat([s1, s2])"
   ]
  },
  {
   "cell_type": "code",
   "execution_count": 41,
   "metadata": {},
   "outputs": [
    {
     "data": {
      "text/plain": [
       "Text(0.5, 1.0, 'Sine Wave Demo')"
      ]
     },
     "execution_count": 41,
     "metadata": {},
     "output_type": "execute_result"
    },
    {
     "data": {
      "image/png": "[encoded data removed]",
      "text/plain": [
       "<Figure size 720x432 with 1 Axes>"
      ]
     },
     "metadata": {
      "needs_background": "light"
     },
     "output_type": "display_data"
    }
   ],
   "source": [
    "import numpy as np\n",
    "\n",
    "t = np.arange(0, 12, 0.01)\n",
    "y = np.sin(t)\n",
    "plt.figure(figsize=(10,6))\n",
    "plt.plot(t, y)\n",
    "plt.grid()\n",
    "plt.xlabel(\"Time\")\n",
    "plt.ylabel(\"Amplitute\")\n",
    "plt.title(\"Sine Wave Demo\")"
   ]
  },
  {
   "cell_type": "code",
   "execution_count": 50,
   "metadata": {},
   "outputs": [
    {
     "data": {
      "text/plain": [
       "[<matplotlib.lines.Line2D at 0x2c470cb8370>]"
      ]
     },
     "execution_count": 50,
     "metadata": {},
     "output_type": "execute_result"
    },
    {
     "data": {
      "image/png": "[encoded data removed]",
      "text/plain": [
       "<Figure size 720x432 with 1 Axes>"
      ]
     },
     "metadata": {
      "needs_background": "light"
     },
     "output_type": "display_data"
    }
   ],
   "source": [
    "plt.figure(figsize=(10,6))\n",
    "t = [0,1,2,3,4,5,6]\n",
    "y = [10,20,5,10,20,30,25]\n",
    "\n",
    "#영문 o(원), s(사각형), >(삼각형)\n",
    "plt.plot(t, y, color=\"green\", linestyle=\"dashed\", marker=\"s\", markerfacecolor=\"red\", markersize=14)"
   ]
  },
  {
   "cell_type": "code",
   "execution_count": 51,
   "metadata": {},
   "outputs": [
    {
     "data": {
      "text/plain": [
       "<matplotlib.collections.PathCollection at 0x2c470eea880>"
      ]
     },
     "execution_count": 51,
     "metadata": {},
     "output_type": "execute_result"
    },
    {
     "data": {
      "image/png": "[encoded data removed]",
      "text/plain": [
       "<Figure size 720x432 with 1 Axes>"
      ]
     },
     "metadata": {
      "needs_background": "light"
     },
     "output_type": "display_data"
    }
   ],
   "source": [
    "#산포도\n",
    "\n",
    "plt.figure(figsize=(10,6))\n",
    "t = [0,1,2,3,4,5,6]\n",
    "y = [10,20,5,10,20,30,25]\n",
    "\n",
    "#영문 o(원), s(사각형), >(삼각형)\n",
    "plt.scatter(t, y, color=\"blue\")"
   ]
  },
  {
   "cell_type": "code",
   "execution_count": 52,
   "metadata": {},
   "outputs": [],
   "source": [
    "#한글처리에 필요한 코드 rc 셋팅을 미리 변경 \n",
    "import platform\n",
    "\n",
    "from matplotlib import font_manager, rc\n",
    "\n",
    "plt.rcParams['axes.unicode_minus'] = False \n",
    "\n",
    "if platform.system() == 'Darwin':\n",
    "    rc('font', family='AppleGothic')\n",
    "elif platform.system() == 'Windows':\n",
    "    path = 'c:/Windows/Fonts/malgun.ttf'\n",
    "    font_name = font_manager.FontProperties(fname=path).get_name()\n",
    "    rc('font', family=font_name)\n",
    "else:\n",
    "    print('Unknown system')"
   ]
  },
  {
   "cell_type": "code",
   "execution_count": 53,
   "metadata": {},
   "outputs": [
    {
     "data": {
      "image/png": "[encoded data removed]",
      "text/plain": [
       "<Figure size 432x288 with 1 Axes>"
      ]
     },
     "metadata": {
      "needs_background": "light"
     },
     "output_type": "display_data"
    }
   ],
   "source": [
    "#영화 데이터로 막대 그래프 출력 \n",
    "movies = [\"애니홀\", \"벤허\", \"카사블랑카\", \"간디\", \"웨스트 사이드\"]\n",
    "\n",
    "num_oscars = [5, 11, 3, 8, 10]\n",
    "\n",
    "plt.bar(movies, num_oscars)\n",
    "\n",
    "plt.ylabel(\"아카데미 상 숫자\")\n",
    "plt.title(\"좋아하는 영화들\")\n",
    "plt.show()"
   ]
  },
  {
   "cell_type": "code",
   "execution_count": null,
   "metadata": {},
   "outputs": [],
   "source": []
  }
 ],
 "metadata": {
  "kernelspec": {
   "display_name": "Python 3.9.10 64-bit",
   "language": "python",
   "name": "python3"
  },
  "language_info": {
   "codemirror_mode": {
    "name": "ipython",
    "version": 3
   },
   "file_extension": ".py",
   "mimetype": "text/x-python",
   "name": "python",
   "nbconvert_exporter": "python",
   "pygments_lexer": "ipython3",
   "version": "3.9.10"
  },
  "orig_nbformat": 4,
  "vscode": {
   "interpreter": {
    "hash": "81794d4967e6c3204c66dcd87b604927b115b27c00565d3d43f05ba2f3a2cb0d"
   }
  }
 },
 "nbformat": 4,
 "nbformat_minor": 2
}
